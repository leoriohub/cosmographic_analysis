{
 "cells": [
  {
   "cell_type": "code",
   "execution_count": 4,
   "metadata": {},
   "outputs": [
    {
     "name": "stdout",
     "output_type": "stream",
     "text": [
      "Luminosity distance at redshift z = 0.02 is 86.97 Mpc\n"
     ]
    }
   ],
   "source": [
    "import numpy as np\n",
    "import scipy.integrate as integrate\n",
    "\n",
    "# Constants\n",
    "c = 299792.458  # Speed of light in km/s\n",
    "\n",
    "def E(z, Omega_m, Omega_Lambda):\n",
    "    \"\"\"The E(z) function in the ΛCDM universe.\"\"\"\n",
    "    return np.sqrt(Omega_m * (1 + z)**3 + Omega_Lambda)\n",
    "\n",
    "def luminosity_distance(z, H0, Omega_m, Omega_Lambda):\n",
    "    \"\"\"\n",
    "    Calculate the luminosity distance in a flat ΛCDM universe.\n",
    "\n",
    "    Args:\n",
    "        z (float): Redshift.\n",
    "        H0 (float): Hubble constant in km/s/Mpc.\n",
    "        Omega_m (float): Matter density parameter.\n",
    "        Omega_Lambda (float): Dark energy density parameter.\n",
    "\n",
    "    Returns:\n",
    "        float: Luminosity distance in Mpc.\n",
    "    \"\"\"\n",
    "    \n",
    "    # Define the integrand function for the comoving distance\n",
    "    def integrand(z_prime):\n",
    "        return 1.0 / E(z_prime, Omega_m, Omega_Lambda)\n",
    "\n",
    "    # Perform the integral from 0 to z (for the comoving distance)\n",
    "    integral, _ = integrate.quad(integrand, 0, z)\n",
    "\n",
    "    # Calculate the comoving distance in Mpc\n",
    "    D_C = (c / H0) * integral\n",
    "\n",
    "    # Calculate the luminosity distance\n",
    "    D_L = (1 + z) * D_C\n",
    "\n",
    "    return D_L\n",
    "\n",
    "# Example usage\n",
    "if __name__ == \"__main__\":\n",
    "    # Cosmological parameters\n",
    "    H0 = 70.0  # Hubble constant in km/s/Mpc\n",
    "    Omega_m = 0.3  # Matter density parameter\n",
    "    Omega_Lambda = 1 - Omega_m  # Dark energy density parameter for a flat universe\n",
    "\n",
    "    # Input redshift\n",
    "    z = float(input(\"Enter the redshift: \"))\n",
    "\n",
    "    # Calculate the luminosity distance\n",
    "    d_L = luminosity_distance(z, H0, Omega_m, Omega_Lambda)\n",
    "\n",
    "    # Output the result\n",
    "    print(f\"Luminosity distance at redshift z = {z} is {d_L:.2f} Mpc\")\n"
   ]
  },
  {
   "cell_type": "code",
   "execution_count": null,
   "metadata": {},
   "outputs": [],
   "source": []
  }
 ],
 "metadata": {
  "kernelspec": {
   "display_name": "Python 3",
   "language": "python",
   "name": "python3"
  },
  "language_info": {
   "codemirror_mode": {
    "name": "ipython",
    "version": 3
   },
   "file_extension": ".py",
   "mimetype": "text/x-python",
   "name": "python",
   "nbconvert_exporter": "python",
   "pygments_lexer": "ipython3",
   "version": "3.12.1"
  }
 },
 "nbformat": 4,
 "nbformat_minor": 2
}
